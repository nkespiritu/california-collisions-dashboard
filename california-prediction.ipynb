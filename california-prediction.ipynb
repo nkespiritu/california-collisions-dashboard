{
 "cells": [
  {
   "cell_type": "markdown",
   "source": [
    "## Predicting number of victims in collisions in California"
   ],
   "metadata": {}
  },
  {
   "cell_type": "code",
   "execution_count": 9,
   "source": [
    "# basics\n",
    "import pandas as pd\n",
    "import numpy as np\n",
    "import shap\n",
    "import sqlite3\n",
    "\n",
    "# initial stab at the problem\n",
    "from lazypredict.Supervised import LazyRegressor\n",
    "\n",
    "# displaying\n",
    "np.set_printoptions(threshold=80)\n",
    "pd.set_option('display.max_columns', 80)\n",
    "pd.set_option('display.max_rows', 80)"
   ],
   "outputs": [],
   "metadata": {}
  },
  {
   "cell_type": "code",
   "execution_count": 21,
   "source": [
    "con = sqlite3.connect('../../../iCloud/Employment/Plentina/switrs.sqlite')\n",
    "\n",
    "query_victims = \"\"\"\n",
    "SELECT COUNT(id) as count_victims, case_id\n",
    "FROM victims\n",
    "GROUP BY case_id\n",
    "\"\"\"\n",
    "\n",
    "df_victims = pd.read_sql_query(query_victims, con)\n"
   ],
   "outputs": [],
   "metadata": {}
  },
  {
   "cell_type": "markdown",
   "source": [],
   "metadata": {}
  },
  {
   "cell_type": "code",
   "execution_count": 27,
   "source": [
    "df_victims.sort_values(\"count_victims\", ascending=False).head(10)"
   ],
   "outputs": [
    {
     "output_type": "execute_result",
     "data": {
      "text/html": [
       "<div>\n",
       "<style scoped>\n",
       "    .dataframe tbody tr th:only-of-type {\n",
       "        vertical-align: middle;\n",
       "    }\n",
       "\n",
       "    .dataframe tbody tr th {\n",
       "        vertical-align: top;\n",
       "    }\n",
       "\n",
       "    .dataframe thead th {\n",
       "        text-align: right;\n",
       "    }\n",
       "</style>\n",
       "<table border=\"1\" class=\"dataframe\">\n",
       "  <thead>\n",
       "    <tr style=\"text-align: right;\">\n",
       "      <th></th>\n",
       "      <th>count_victims</th>\n",
       "      <th>case_id</th>\n",
       "    </tr>\n",
       "  </thead>\n",
       "  <tbody>\n",
       "    <tr>\n",
       "      <th>2711023</th>\n",
       "      <td>184</td>\n",
       "      <td>5186423</td>\n",
       "    </tr>\n",
       "    <tr>\n",
       "      <th>3586872</th>\n",
       "      <td>119</td>\n",
       "      <td>6854642</td>\n",
       "    </tr>\n",
       "    <tr>\n",
       "      <th>1649802</th>\n",
       "      <td>116</td>\n",
       "      <td>3150216</td>\n",
       "    </tr>\n",
       "    <tr>\n",
       "      <th>3352873</th>\n",
       "      <td>116</td>\n",
       "      <td>6422416</td>\n",
       "    </tr>\n",
       "    <tr>\n",
       "      <th>422837</th>\n",
       "      <td>112</td>\n",
       "      <td>0828420</td>\n",
       "    </tr>\n",
       "    <tr>\n",
       "      <th>4470469</th>\n",
       "      <td>101</td>\n",
       "      <td>9028245</td>\n",
       "    </tr>\n",
       "    <tr>\n",
       "      <th>3823955</th>\n",
       "      <td>99</td>\n",
       "      <td>8073733</td>\n",
       "    </tr>\n",
       "    <tr>\n",
       "      <th>1934776</th>\n",
       "      <td>97</td>\n",
       "      <td>3698263</td>\n",
       "    </tr>\n",
       "    <tr>\n",
       "      <th>1397833</th>\n",
       "      <td>96</td>\n",
       "      <td>2671741</td>\n",
       "    </tr>\n",
       "    <tr>\n",
       "      <th>715541</th>\n",
       "      <td>89</td>\n",
       "      <td>1407091</td>\n",
       "    </tr>\n",
       "  </tbody>\n",
       "</table>\n",
       "</div>"
      ],
      "text/plain": [
       "         count_victims  case_id\n",
       "2711023            184  5186423\n",
       "3586872            119  6854642\n",
       "1649802            116  3150216\n",
       "3352873            116  6422416\n",
       "422837             112  0828420\n",
       "4470469            101  9028245\n",
       "3823955             99  8073733\n",
       "1934776             97  3698263\n",
       "1397833             96  2671741\n",
       "715541              89  1407091"
      ]
     },
     "metadata": {},
     "execution_count": 27
    }
   ],
   "metadata": {}
  },
  {
   "cell_type": "code",
   "execution_count": null,
   "source": [],
   "outputs": [],
   "metadata": {}
  }
 ],
 "metadata": {
  "orig_nbformat": 4,
  "language_info": {
   "name": "python",
   "version": "3.8.5",
   "mimetype": "text/x-python",
   "codemirror_mode": {
    "name": "ipython",
    "version": 3
   },
   "pygments_lexer": "ipython3",
   "nbconvert_exporter": "python",
   "file_extension": ".py"
  },
  "kernelspec": {
   "name": "python3",
   "display_name": "Python 3.8.5 64-bit ('base': conda)"
  },
  "interpreter": {
   "hash": "014bf486c3fdb0d011a6c83c8cce499f1a53fa6b4c8739ee2af3d3001512c8d8"
  }
 },
 "nbformat": 4,
 "nbformat_minor": 2
}